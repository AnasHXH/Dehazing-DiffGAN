{
 "cells": [
  {
   "cell_type": "markdown",
   "metadata": {},
   "source": [
    "# Dehaze"
   ]
  },
  {
   "cell_type": "code",
   "execution_count": null,
   "metadata": {},
   "outputs": [
    {
     "name": "stdout",
     "output_type": "stream",
     "text": [
      "24-12-08 11:58:19.596 - INFO: Starting the model testing...\n",
      "24-12-08 11:58:19.598 - INFO: Dataset [LQDataset - test_dataset] is created.\n",
      "24-12-08 11:58:19.599 - INFO: Number of test images in [test_dataset]: 5\n",
      "24-12-08 11:58:20.988 - INFO: Loading model for G [/home/anas/Anas_CODES/Dehazing_DiffGAN_paper/ntire24_output_folder-20241205T082128Z-001/ntire24_output_folder/weights/refusion/95000_G.pth] ...\n",
      "/home/anas/Anas_CODES/Dehazing_DiffGAN_paper/ntire24_output_folder-20241205T082128Z-001/ntire24_output_folder/my_model/models/base_model.py:97: FutureWarning: You are using `torch.load` with `weights_only=False` (the current default value), which uses the default pickle module implicitly. It is possible to construct malicious pickle data which will execute arbitrary code during unpickling (See https://github.com/pytorch/pytorch/blob/main/SECURITY.md#untrusted-models for more details). In a future release, the default value for `weights_only` will be flipped to `True`. This limits the functions that could be executed during unpickling. Arbitrary objects will no longer be allowed to be loaded via this mode unless they are explicitly allowlisted by the user via `torch.serialization.add_safe_globals`. We recommend you start setting `weights_only=True` for any use case where you don't have full control of the loaded file. Please open an issue on GitHub for any issues related to this experimental feature.\n",
      "  load_net = torch.load(load_path)\n",
      "24-12-08 11:58:21.228 - INFO: Loading model for L [/home/anas/Anas_CODES/Dehazing_DiffGAN_paper/ntire24_output_folder-20241205T082128Z-001/ntire24_output_folder/weights/refusion/latent-dehazing.pth] ...\n",
      "24-12-08 11:58:21.235 - INFO: Model [DenoisingModel] is created.\n",
      "cosine schedule\n",
      "100it [00:15,  6.29it/s]\n",
      "100it [00:15,  6.31it/s]\n",
      "100it [00:16,  6.17it/s]\n",
      "100it [00:16,  6.23it/s]\n",
      "100it [00:16,  6.12it/s]\n",
      "24-12-08 11:59:56.149 - INFO: Average test time: 16.2725s\n"
     ]
    }
   ],
   "source": [
    "!python /home/anas/Anas_CODES/Dehazing_DiffGAN_paper/ntire24_output_folder-20241205T082128Z-001/ntire24_output_folder/my_model/Dehaze.py \\\n",
    "    --input_dir /home/anas/Anas_CODES/Dehazing_DiffGAN_paper/ntire24_output_folder-20241205T082128Z-001/ntire24_output_folder/ntire24_test_hazy \\\n",
    "    --output_dir /home/anas/Anas_CODES/Dehazing_DiffGAN_paper/ntire24_output_folder-20241205T082128Z-001/ntire24_output_folder/test_output_images_v2 \\\n",
    "    --pretrained_g /home/anas/Anas_CODES/Dehazing_DiffGAN_paper/ntire24_output_folder-20241205T082128Z-001/ntire24_output_folder/weights/refusion/95000_G.pth \\\n",
    "    --pretrained_l /home/anas/Anas_CODES/Dehazing_DiffGAN_paper/ntire24_output_folder-20241205T082128Z-001/ntire24_output_folder/weights/refusion/latent-dehazing.pth \\\n",
    "    --log_dir /home/anas/Anas_CODES/Dehazing_DiffGAN_paper/ntire24_output_folder-20241205T082128Z-001/ntire24_output_folder/logs \\\n",
    "    --max_sigma 50 \\\n",
    "    --T 100 \\\n",
    "    --schedule cosine \\\n",
    "    --eps 0.005 \\\n",
    "    --suffix \"\"\n"
   ]
  },
  {
   "cell_type": "markdown",
   "metadata": {},
   "source": [
    "# Enhancement"
   ]
  },
  {
   "cell_type": "code",
   "execution_count": null,
   "metadata": {},
   "outputs": [
    {
     "name": "stdout",
     "output_type": "stream",
     "text": [
      "INFO:base:Cropping images...\n",
      "INFO:base:Running SPSR model...\n",
      "INFO:base:Number of test images in [gan_output]: 9\n",
      "INFO:base:Loading pretrained model for G [/home/anas/Anas_CODES/Dehazing_DiffGAN_paper/ntire24_output_folder-20241205T082128Z-001/ntire24_output_folder/weights/Lap_GAn/70000_G.pth] ...\n",
      "/home/anas/Anas_CODES/Dehazing_DiffGAN_paper/ntire24_output_folder-20241205T082128Z-001/ntire24_output_folder/my_model/models_/base_model.py:64: FutureWarning: You are using `torch.load` with `weights_only=False` (the current default value), which uses the default pickle module implicitly. It is possible to construct malicious pickle data which will execute arbitrary code during unpickling (See https://github.com/pytorch/pytorch/blob/main/SECURITY.md#untrusted-models for more details). In a future release, the default value for `weights_only` will be flipped to `True`. This limits the functions that could be executed during unpickling. Arbitrary objects will no longer be allowed to be loaded via this mode unless they are explicitly allowlisted by the user via `torch.serialization.add_safe_globals`. We recommend you start setting `weights_only=True` for any use case where you don't have full control of the loaded file. Please open an issue on GitHub for any issues related to this experimental feature.\n",
      "  pretrained_dict = torch.load(load_path)\n",
      "INFO:base:Model [SPSRModel] is created.\n",
      "INFO:base:\n",
      "Testing [gan_output]...\n",
      "INFO:base:46_middle_middle\n",
      "INFO:base:Merging images...\n",
      "INFO:base:Fixing orientation if needed...\n",
      "INFO:base:All done. Final outputs are in: /home/anas/Anas_CODES/Dehazing_DiffGAN_paper/ntire24_output_folder-20241205T082128Z-001/ntire24_output_folder/test_v3/output/final_merged\n"
     ]
    }
   ],
   "source": [
    "!python /home/anas/Anas_CODES/Dehazing_DiffGAN_paper/ntire24_output_folder-20241205T082128Z-001/ntire24_output_folder/my_model/Enahncment.py\\\n",
    "               --input_dir /home/anas/Anas_CODES/Dehazing_DiffGAN_paper/ntire24_output_folder-20241205T082128Z-001/ntire24_output_folder/test_v3 \\\n",
    "               --output_dir /home/anas/Anas_CODES/Dehazing_DiffGAN_paper/ntire24_output_folder-20241205T082128Z-001/ntire24_output_folder/test_v3/output \\\n",
    "               --weight_path /home/anas/Anas_CODES/Dehazing_DiffGAN_paper/ntire24_output_folder-20241205T082128Z-001/ntire24_output_folder/weights/Lap_GAn/70000_G.pth \\\n",
    "               --original_width 6000 \\\n",
    "               --original_height 4000\n"
   ]
  },
  {
   "cell_type": "code",
   "execution_count": null,
   "metadata": {},
   "outputs": [],
   "source": []
  }
 ],
 "metadata": {
  "kernelspec": {
   "display_name": "ip2p",
   "language": "python",
   "name": "python3"
  },
  "language_info": {
   "codemirror_mode": {
    "name": "ipython",
    "version": 3
   },
   "file_extension": ".py",
   "mimetype": "text/x-python",
   "name": "python",
   "nbconvert_exporter": "python",
   "pygments_lexer": "ipython3",
   "version": "3.8.5"
  }
 },
 "nbformat": 4,
 "nbformat_minor": 2
}
